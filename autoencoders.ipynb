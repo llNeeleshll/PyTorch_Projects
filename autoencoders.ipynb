{
 "cells": [
  {
   "cell_type": "code",
   "execution_count": 3,
   "metadata": {},
   "outputs": [],
   "source": [
    "import os\n",
    "import torch \n",
    "import torchvision\n",
    "import torch.nn as nn\n",
    "import torchvision.transforms as transforms\n",
    "from torch.nn.modules.container import Sequential\n",
    "import torch.optim as optim\n",
    "import matplotlib.pyplot as plt\n",
    "import torch.nn.functional as F\n",
    "from torchvision import datasets\n",
    "from torch.utils.data import DataLoader\n",
    "from torchvision.utils import save_image\n",
    "from PIL import Image\n"
   ]
  },
  {
   "cell_type": "code",
   "execution_count": 4,
   "metadata": {},
   "outputs": [],
   "source": [
    "transform = transforms.Compose([\n",
    "    transforms.ToTensor(),\n",
    "    transforms.Normalize((0.5,), (0.5,))\n",
    "])\n",
    "\n",
    "train_set = datasets.MNIST(root='./data', train=True, download=True, transform=transform)\n",
    "test_set = datasets.MNIST(root='./data', train=False, download=True, transform=transform)"
   ]
  },
  {
   "cell_type": "code",
   "execution_count": 38,
   "metadata": {},
   "outputs": [],
   "source": [
    "transform_single = transforms.Compose([\n",
    "    transforms.ToTensor()\n",
    "])"
   ]
  },
  {
   "cell_type": "code",
   "execution_count": 5,
   "metadata": {},
   "outputs": [],
   "source": [
    "epochs = 30\n",
    "lr = 1e-3\n",
    "batch_size = 128"
   ]
  },
  {
   "cell_type": "code",
   "execution_count": 6,
   "metadata": {},
   "outputs": [],
   "source": [
    "device  = \"cuda\" if torch.cuda.is_available() else \"cpu\""
   ]
  },
  {
   "cell_type": "code",
   "execution_count": 7,
   "metadata": {},
   "outputs": [],
   "source": [
    "train_loader = DataLoader(train_set, batch_size=batch_size, shuffle=True)\n",
    "test_loader = DataLoader(test_set, batch_size=batch_size, shuffle=True)"
   ]
  },
  {
   "cell_type": "code",
   "execution_count": 8,
   "metadata": {},
   "outputs": [],
   "source": [
    "class Encoder(nn.Module):\n",
    "\n",
    "    def __init__(self):\n",
    "        super(Encoder, self).__init__()\n",
    "\n",
    "        self.encoder = Sequential(                \n",
    "                nn.Linear(784, 256),  \n",
    "                nn.ReLU(),\n",
    "                nn.Linear(256, 128),  \n",
    "                nn.ReLU(), \n",
    "                nn.Linear(128, 64),  \n",
    "                nn.ReLU(), \n",
    "                nn.Linear(64, 32),  \n",
    "                nn.ReLU(),\n",
    "                nn.Linear(32, 16),  \n",
    "                nn.ReLU()\n",
    "        )\n",
    "\n",
    "    def forward(self, x):\n",
    "        return self.encoder(x)"
   ]
  },
  {
   "cell_type": "code",
   "execution_count": 9,
   "metadata": {},
   "outputs": [],
   "source": [
    "class Decoder(nn.Module):\n",
    "\n",
    "    def __init__(self):\n",
    "        super(Decoder, self).__init__()\n",
    "\n",
    "        self.decoder = Sequential(                \n",
    "                nn.Linear(16, 32),  \n",
    "                nn.ReLU(),\n",
    "                nn.Linear(32, 64),  \n",
    "                nn.ReLU(), \n",
    "                nn.Linear(64, 128),  \n",
    "                nn.ReLU(), \n",
    "                nn.Linear(128, 256),  \n",
    "                nn.ReLU(),\n",
    "                nn.Linear(256, 784),  \n",
    "                nn.ReLU()\n",
    "        )\n",
    "\n",
    "    def forward(self, x):\n",
    "        return self.decoder(x)"
   ]
  },
  {
   "cell_type": "code",
   "execution_count": 10,
   "metadata": {},
   "outputs": [],
   "source": [
    "class Autoencoder(nn.Module):\n",
    "\n",
    "  def __init__(self):\n",
    "    super(Autoencoder,self).__init__()\n",
    "    \n",
    "    self.encoder = Encoder().to(device)\n",
    "    self.decoder = Decoder().to(device)\n",
    "\n",
    "\n",
    "  def forward(self,x):\n",
    "    x = self.encoder(x)\n",
    "    x = self.decoder(x)\n",
    "    return x"
   ]
  },
  {
   "cell_type": "code",
   "execution_count": 11,
   "metadata": {},
   "outputs": [
    {
     "name": "stdout",
     "output_type": "stream",
     "text": [
      "Autoencoder(\n",
      "  (encoder): Encoder(\n",
      "    (encoder): Sequential(\n",
      "      (0): Linear(in_features=784, out_features=256, bias=True)\n",
      "      (1): ReLU()\n",
      "      (2): Linear(in_features=256, out_features=128, bias=True)\n",
      "      (3): ReLU()\n",
      "      (4): Linear(in_features=128, out_features=64, bias=True)\n",
      "      (5): ReLU()\n",
      "      (6): Linear(in_features=64, out_features=32, bias=True)\n",
      "      (7): ReLU()\n",
      "      (8): Linear(in_features=32, out_features=16, bias=True)\n",
      "      (9): ReLU()\n",
      "    )\n",
      "  )\n",
      "  (decoder): Decoder(\n",
      "    (decoder): Sequential(\n",
      "      (0): Linear(in_features=16, out_features=32, bias=True)\n",
      "      (1): ReLU()\n",
      "      (2): Linear(in_features=32, out_features=64, bias=True)\n",
      "      (3): ReLU()\n",
      "      (4): Linear(in_features=64, out_features=128, bias=True)\n",
      "      (5): ReLU()\n",
      "      (6): Linear(in_features=128, out_features=256, bias=True)\n",
      "      (7): ReLU()\n",
      "      (8): Linear(in_features=256, out_features=784, bias=True)\n",
      "      (9): ReLU()\n",
      "    )\n",
      "  )\n",
      ")\n"
     ]
    }
   ],
   "source": [
    "model = Autoencoder().to(device)\n",
    "print(model)"
   ]
  },
  {
   "cell_type": "code",
   "execution_count": 12,
   "metadata": {},
   "outputs": [],
   "source": [
    "criterion = nn.MSELoss()\n",
    "optimizer = optim.Adam(model.parameters(), lr=lr)"
   ]
  },
  {
   "cell_type": "code",
   "execution_count": 13,
   "metadata": {},
   "outputs": [],
   "source": [
    "def make_dir():\n",
    "    image_dir = r'C:\\Users\\neele\\OneDrive\\Documents\\Git Repositories\\PyTorch_Projects\\MNIST_Out_Images'\n",
    "    if not os.path.exists(image_dir):\n",
    "        os.makedirs(image_dir)\n",
    "\n",
    "make_dir()"
   ]
  },
  {
   "cell_type": "code",
   "execution_count": 14,
   "metadata": {},
   "outputs": [],
   "source": [
    "def save_decod_img(img, epoch):\n",
    "    img = img.view(img.size(0), 1, 28, 28)\n",
    "    save_image(img, r'C:\\Users\\neele\\OneDrive\\Documents\\Git Repositories\\PyTorch_Projects\\MNIST_Out_Images\\Autoencoder_image{}.png'.format(epoch))"
   ]
  },
  {
   "cell_type": "code",
   "execution_count": 15,
   "metadata": {},
   "outputs": [],
   "source": [
    "def training(model, train_loader, Epochs):\n",
    "    train_loss = []\n",
    "    for epoch in range(Epochs):\n",
    "        running_loss = 0.0\n",
    "        for data in train_loader:\n",
    "            img, _ = data\n",
    "            img = img.to(device)\n",
    "            img = img.view(img.size(0), -1)\n",
    "            optimizer.zero_grad()\n",
    "            outputs = model(img)\n",
    "            loss = criterion(outputs, img)\n",
    "            loss.backward()\n",
    "            optimizer.step()\n",
    "            running_loss += loss.item()\n",
    "\n",
    "        loss = running_loss / len(train_loader)\n",
    "        train_loss.append(loss)\n",
    "        print('Epoch {} of {}, Train Loss: {:.3f}'.format(\n",
    "            epoch+1, Epochs, loss))\n",
    "\n",
    "        if epoch % 5 == 0:\n",
    "            save_decod_img(outputs.cpu().data, epoch)\n",
    "\n",
    "    return train_loss"
   ]
  },
  {
   "cell_type": "code",
   "execution_count": 16,
   "metadata": {},
   "outputs": [],
   "source": [
    "def test_image_reconstruct(model, test_loader):\n",
    "     for batch in test_loader:\n",
    "        img, _ = batch\n",
    "        img = img.to(device)\n",
    "        img = img.view(img.size(0), -1)\n",
    "        outputs = model(img)\n",
    "        outputs = outputs.view(outputs.size(0), 1, 28, 28).cpu().data\n",
    "        save_image(outputs, 'MNIST_reconstruction.png')\n",
    "        break"
   ]
  },
  {
   "cell_type": "code",
   "execution_count": 17,
   "metadata": {},
   "outputs": [
    {
     "name": "stdout",
     "output_type": "stream",
     "text": [
      "Epoch 1 of 30, Train Loss: 0.923\n",
      "Epoch 2 of 30, Train Loss: 0.915\n",
      "Epoch 3 of 30, Train Loss: 0.907\n",
      "Epoch 4 of 30, Train Loss: 0.902\n",
      "Epoch 5 of 30, Train Loss: 0.898\n",
      "Epoch 6 of 30, Train Loss: 0.896\n",
      "Epoch 7 of 30, Train Loss: 0.894\n",
      "Epoch 8 of 30, Train Loss: 0.893\n",
      "Epoch 9 of 30, Train Loss: 0.892\n",
      "Epoch 10 of 30, Train Loss: 0.891\n",
      "Epoch 11 of 30, Train Loss: 0.890\n",
      "Epoch 12 of 30, Train Loss: 0.889\n",
      "Epoch 13 of 30, Train Loss: 0.889\n",
      "Epoch 14 of 30, Train Loss: 0.888\n",
      "Epoch 15 of 30, Train Loss: 0.888\n",
      "Epoch 16 of 30, Train Loss: 0.887\n",
      "Epoch 17 of 30, Train Loss: 0.886\n",
      "Epoch 18 of 30, Train Loss: 0.886\n",
      "Epoch 19 of 30, Train Loss: 0.885\n",
      "Epoch 20 of 30, Train Loss: 0.885\n",
      "Epoch 21 of 30, Train Loss: 0.885\n",
      "Epoch 22 of 30, Train Loss: 0.884\n",
      "Epoch 23 of 30, Train Loss: 0.884\n",
      "Epoch 24 of 30, Train Loss: 0.884\n",
      "Epoch 25 of 30, Train Loss: 0.884\n",
      "Epoch 26 of 30, Train Loss: 0.883\n",
      "Epoch 27 of 30, Train Loss: 0.883\n",
      "Epoch 28 of 30, Train Loss: 0.883\n",
      "Epoch 29 of 30, Train Loss: 0.883\n",
      "Epoch 30 of 30, Train Loss: 0.882\n"
     ]
    }
   ],
   "source": [
    "train_loss = training(model, train_loader, epochs)"
   ]
  },
  {
   "cell_type": "code",
   "execution_count": 18,
   "metadata": {},
   "outputs": [
    {
     "data": {
      "image/png": "[encoded data removed]",
      "text/plain": [
       "<Figure size 432x288 with 1 Axes>"
      ]
     },
     "metadata": {
      "needs_background": "light"
     },
     "output_type": "display_data"
    }
   ],
   "source": [
    "plt.figure()\n",
    "plt.plot(train_loss)\n",
    "plt.title('Train Loss')\n",
    "plt.xlabel('Epochs')\n",
    "plt.ylabel('Loss')\n",
    "plt.savefig('deep_ae_mnist_loss.png')"
   ]
  },
  {
   "cell_type": "code",
   "execution_count": 21,
   "metadata": {},
   "outputs": [],
   "source": [
    "#How to Encode image now?\n",
    "\n",
    "for item in train_loader:\n",
    "    img, _ = item\n",
    "    img = img.to(device)\n",
    "    img = img.view(img.size(0), -1)\n",
    "    outputs = model.encoder(img)\n",
    "    break"
   ]
  },
  {
   "cell_type": "code",
   "execution_count": 26,
   "metadata": {},
   "outputs": [],
   "source": [
    "outputs = outputs.view(outputs.size(0), 1, 4, 4).cpu().data\n",
    "save_image(outputs, r'C:\\Users\\neele\\OneDrive\\Documents\\Git Repositories\\PyTorch_Projects\\MNIST_Out_Images\\MNIST_reconstruction_encoded.png')"
   ]
  },
  {
   "cell_type": "code",
   "execution_count": null,
   "metadata": {},
   "outputs": [],
   "source": [
    "tar_img  = Image.open(r'C:\\Users\\neele\\OneDrive\\Documents\\Git Repositories\\PyTorch_Projects\\MNIST_Out_Images\\cnd.jpg').convert('L')\n",
    "tar_img = transform(tar_img).resize_(499, 334)\n",
    "tar_img = tar_img.to(device)\n",
    "tar_img = tar_img.view(tar_img.size(0), -1)\n",
    "print(tar_img.shape)\n",
    "outputs_tar = model.encoder(tar_img)"
   ]
  },
  {
   "cell_type": "code",
   "execution_count": 44,
   "metadata": {},
   "outputs": [
    {
     "data": {
      "text/plain": [
       "torch.Size([499, 334])"
      ]
     },
     "execution_count": 44,
     "metadata": {},
     "output_type": "execute_result"
    }
   ],
   "source": [
    "tar_img.resize_(499, 334).shape"
   ]
  },
  {
   "cell_type": "code",
   "execution_count": null,
   "metadata": {},
   "outputs": [],
   "source": []
  }
 ],
 "metadata": {
  "interpreter": {
   "hash": "fe1fbfa14f7916735696a9322e667a237902258ca1fb6b99eeb22f79e9159140"
  },
  "kernelspec": {
   "display_name": "Python 3.8.6 64-bit",
   "name": "python3"
  },
  "language_info": {
   "codemirror_mode": {
    "name": "ipython",
    "version": 3
   },
   "file_extension": ".py",
   "mimetype": "text/x-python",
   "name": "python",
   "nbconvert_exporter": "python",
   "pygments_lexer": "ipython3",
   "version": "3.8.6"
  },
  "orig_nbformat": 4
 },
 "nbformat": 4,
 "nbformat_minor": 2
}
