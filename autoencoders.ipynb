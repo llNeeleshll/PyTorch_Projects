{
 "cells": [
  {
   "cell_type": "code",
   "execution_count": 7,
   "source": [
    "import os\r\n",
    "import torch \r\n",
    "import torchvision\r\n",
    "import torch.nn as nn\r\n",
    "import torchvision.transforms as transforms\r\n",
    "from torch.nn.modules.container import Sequential\r\n",
    "import torch.optim as optim\r\n",
    "import matplotlib.pyplot as plt\r\n",
    "import torch.nn.functional as F\r\n",
    "from torchvision import datasets\r\n",
    "from torch.utils.data import DataLoader\r\n",
    "from torchvision.utils import save_image\r\n",
    "from PIL import Image\r\n"
   ],
   "outputs": [],
   "metadata": {}
  },
  {
   "cell_type": "code",
   "execution_count": 3,
   "source": [
    "transform = transforms.Compose([\r\n",
    "    transforms.ToTensor(),\r\n",
    "    transforms.Normalize((0.5,), (0.5,))\r\n",
    "])\r\n",
    "\r\n",
    "train_set = datasets.MNIST(root='./data', train=True, download=True, transform=transform)\r\n",
    "test_set = datasets.MNIST(root='./data', train=False, download=True, transform=transform)"
   ],
   "outputs": [],
   "metadata": {}
  },
  {
   "cell_type": "code",
   "execution_count": 22,
   "source": [
    "epochs = 30\r\n",
    "lr = 1e-3\r\n",
    "batch_size = 128"
   ],
   "outputs": [],
   "metadata": {}
  },
  {
   "cell_type": "code",
   "execution_count": 12,
   "source": [
    "device  = \"cuda\" if torch.cuda.is_available() else \"cpu\""
   ],
   "outputs": [],
   "metadata": {}
  },
  {
   "cell_type": "code",
   "execution_count": 6,
   "source": [
    "train_loader = DataLoader(train_set, batch_size=batch_size, shuffle=True)\r\n",
    "test_loader = DataLoader(test_set, batch_size=batch_size, shuffle=True)"
   ],
   "outputs": [],
   "metadata": {}
  },
  {
   "cell_type": "code",
   "execution_count": 29,
   "source": [
    "class AutoEncoder(nn.Module):\r\n",
    "\r\n",
    "    def __init__(self):\r\n",
    "        super(AutoEncoder, self).__init__()\r\n",
    "        \r\n",
    "        #Encoders\r\n",
    "        self.encoder = Sequential(                \r\n",
    "                nn.Linear(784, 256),  \r\n",
    "                nn.ReLU(),\r\n",
    "                nn.Linear(256, 128),  \r\n",
    "                nn.ReLU(), \r\n",
    "                nn.Linear(128, 64),  \r\n",
    "                nn.ReLU(), \r\n",
    "                nn.Linear(64, 32),  \r\n",
    "                nn.ReLU(),\r\n",
    "                nn.Linear(32, 16),  \r\n",
    "                nn.ReLU()\r\n",
    "        )\r\n",
    "\r\n",
    "        #Decoder\r\n",
    "        self.decoder = Sequential(\r\n",
    "                nn.Linear(16, 32),  \r\n",
    "                nn.ReLU(),\r\n",
    "                nn.Linear(32, 64),  \r\n",
    "                nn.ReLU(), \r\n",
    "                nn.Linear(64, 128),  \r\n",
    "                nn.ReLU(), \r\n",
    "                nn.Linear(128, 256),  \r\n",
    "                nn.ReLU(),\r\n",
    "                nn.Linear(256, 784),  \r\n",
    "                nn.ReLU()\r\n",
    "            )\r\n",
    "\r\n",
    "    def forward(self, x):\r\n",
    "        return self.layer(x)\r\n",
    "\r\n",
    "\r\n"
   ],
   "outputs": [],
   "metadata": {}
  },
  {
   "cell_type": "code",
   "execution_count": 23,
   "source": [
    "model = AutoEncoder().to(device)\r\n",
    "print(model)"
   ],
   "outputs": [
    {
     "output_type": "stream",
     "name": "stdout",
     "text": [
      "AutoEncoder(\n",
      "  (layer): Sequential(\n",
      "    (0): Linear(in_features=784, out_features=256, bias=True)\n",
      "    (1): ReLU()\n",
      "    (2): Linear(in_features=256, out_features=128, bias=True)\n",
      "    (3): ReLU()\n",
      "    (4): Linear(in_features=128, out_features=64, bias=True)\n",
      "    (5): ReLU()\n",
      "    (6): Linear(in_features=64, out_features=32, bias=True)\n",
      "    (7): ReLU()\n",
      "    (8): Linear(in_features=32, out_features=16, bias=True)\n",
      "    (9): ReLU()\n",
      "    (10): Linear(in_features=16, out_features=32, bias=True)\n",
      "    (11): ReLU()\n",
      "    (12): Linear(in_features=32, out_features=64, bias=True)\n",
      "    (13): ReLU()\n",
      "    (14): Linear(in_features=64, out_features=128, bias=True)\n",
      "    (15): ReLU()\n",
      "    (16): Linear(in_features=128, out_features=256, bias=True)\n",
      "    (17): ReLU()\n",
      "    (18): Linear(in_features=256, out_features=784, bias=True)\n",
      "    (19): ReLU()\n",
      "  )\n",
      ")\n"
     ]
    }
   ],
   "metadata": {}
  },
  {
   "cell_type": "code",
   "execution_count": 24,
   "source": [
    "criterion = nn.MSELoss()\r\n",
    "optimizer = optim.Adam(model.parameters(), lr=lr)"
   ],
   "outputs": [],
   "metadata": {}
  },
  {
   "cell_type": "code",
   "execution_count": 25,
   "source": [
    "def make_dir():\r\n",
    "    image_dir = r'C:\\Users\\neele\\OneDrive\\Documents\\Git Repositories\\PyTorch_Projects\\MNIST_Out_Images'\r\n",
    "    if not os.path.exists(image_dir):\r\n",
    "        os.makedirs(image_dir)\r\n",
    "\r\n",
    "make_dir()"
   ],
   "outputs": [],
   "metadata": {}
  },
  {
   "cell_type": "code",
   "execution_count": 26,
   "source": [
    "def save_decod_img(img, epoch):\r\n",
    "    img = img.view(img.size(0), 1, 28, 28)\r\n",
    "    save_image(img, r'C:\\Users\\neele\\OneDrive\\Documents\\Git Repositories\\PyTorch_Projects\\MNIST_Out_Images\\Autoencoder_image{}.png'.format(epoch))"
   ],
   "outputs": [],
   "metadata": {}
  },
  {
   "cell_type": "code",
   "execution_count": 17,
   "source": [
    "def training(model, train_loader, Epochs):\r\n",
    "    train_loss = []\r\n",
    "    for epoch in range(Epochs):\r\n",
    "        running_loss = 0.0\r\n",
    "        for data in train_loader:\r\n",
    "            img, _ = data\r\n",
    "            img = img.to(device)\r\n",
    "            img = img.view(img.size(0), -1)\r\n",
    "            optimizer.zero_grad()\r\n",
    "            outputs = model(img)\r\n",
    "            loss = criterion(outputs, img)\r\n",
    "            loss.backward()\r\n",
    "            optimizer.step()\r\n",
    "            running_loss += loss.item()\r\n",
    "\r\n",
    "        loss = running_loss / len(train_loader)\r\n",
    "        train_loss.append(loss)\r\n",
    "        print('Epoch {} of {}, Train Loss: {:.3f}'.format(\r\n",
    "            epoch+1, Epochs, loss))\r\n",
    "\r\n",
    "        if epoch % 5 == 0:\r\n",
    "            save_decod_img(outputs.cpu().data, epoch)\r\n",
    "\r\n",
    "    return train_loss"
   ],
   "outputs": [],
   "metadata": {}
  },
  {
   "cell_type": "code",
   "execution_count": 18,
   "source": [
    "def test_image_reconstruct(model, test_loader):\r\n",
    "     for batch in test_loader:\r\n",
    "        img, _ = batch\r\n",
    "        img = img.to(device)\r\n",
    "        img = img.view(img.size(0), -1)\r\n",
    "        outputs = model(img)\r\n",
    "        outputs = outputs.view(outputs.size(0), 1, 28, 28).cpu().data\r\n",
    "        save_image(outputs, 'MNIST_reconstruction.png')\r\n",
    "        break"
   ],
   "outputs": [],
   "metadata": {}
  },
  {
   "cell_type": "code",
   "execution_count": null,
   "source": [
    "train_loss = training(model, train_loader, epochs)"
   ],
   "outputs": [],
   "metadata": {}
  },
  {
   "cell_type": "code",
   "execution_count": 28,
   "source": [
    "plt.figure()\r\n",
    "plt.plot(train_loss)\r\n",
    "plt.title('Train Loss')\r\n",
    "plt.xlabel('Epochs')\r\n",
    "plt.ylabel('Loss')\r\n",
    "plt.savefig('deep_ae_mnist_loss.png')"
   ],
   "outputs": [
    {
     "output_type": "display_data",
     "data": {
      "image/png": "[encoded data removed]",
      "text/plain": [
       "<Figure size 432x288 with 1 Axes>"
      ]
     },
     "metadata": {
      "needs_background": "light"
     }
    }
   ],
   "metadata": {}
  },
  {
   "cell_type": "code",
   "execution_count": null,
   "source": [],
   "outputs": [],
   "metadata": {}
  }
 ],
 "metadata": {
  "orig_nbformat": 4,
  "language_info": {
   "name": "python",
   "version": "3.8.6",
   "mimetype": "text/x-python",
   "codemirror_mode": {
    "name": "ipython",
    "version": 3
   },
   "pygments_lexer": "ipython3",
   "nbconvert_exporter": "python",
   "file_extension": ".py"
  },
  "kernelspec": {
   "name": "python3",
   "display_name": "Python 3.8.6 64-bit"
  },
  "interpreter": {
   "hash": "fe1fbfa14f7916735696a9322e667a237902258ca1fb6b99eeb22f79e9159140"
  }
 },
 "nbformat": 4,
 "nbformat_minor": 2
}