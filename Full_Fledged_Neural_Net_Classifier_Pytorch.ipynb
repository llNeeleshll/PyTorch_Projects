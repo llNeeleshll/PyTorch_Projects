{
  "nbformat": 4,
  "nbformat_minor": 0,
  "metadata": {
    "colab": {
      "name": "Full_Fledged_Neural_Net_Classifier_Pytorch",
      "provenance": [],
      "collapsed_sections": []
    },
    "kernelspec": {
      "name": "python3",
      "display_name": "Python 3"
    }
  },
  "cells": [
    {
      "cell_type": "code",
      "metadata": {
        "id": "q3W9rYZYzV0r"
      },
      "source": [
        "import torch\n",
        "import pandas as pd\n",
        "import matplotlib.pyplot as plt\n",
        "import torch.nn as nn\n",
        "import torch.nn.functional as F"
      ],
      "execution_count": null,
      "outputs": []
    },
    {
      "cell_type": "code",
      "metadata": {
        "id": "ZaAEyS70zsFR"
      },
      "source": [
        "df = pd.read_csv('sample_data/iris.csv')"
      ],
      "execution_count": null,
      "outputs": []
    },
    {
      "cell_type": "code",
      "metadata": {
        "id": "fwyvEP66z2xX",
        "outputId": "93dfc005-cda1-47ba-e8a6-0217c8012cd4",
        "colab": {
          "base_uri": "https://localhost:8080/",
          "height": 204
        }
      },
      "source": [
        "# Let's see how the data looks like\n",
        "df.head()"
      ],
      "execution_count": null,
      "outputs": [
        {
          "output_type": "execute_result",
          "data": {
            "text/html": [
              "<div>\n",
              "<style scoped>\n",
              "    .dataframe tbody tr th:only-of-type {\n",
              "        vertical-align: middle;\n",
              "    }\n",
              "\n",
              "    .dataframe tbody tr th {\n",
              "        vertical-align: top;\n",
              "    }\n",
              "\n",
              "    .dataframe thead th {\n",
              "        text-align: right;\n",
              "    }\n",
              "</style>\n",
              "<table border=\"1\" class=\"dataframe\">\n",
              "  <thead>\n",
              "    <tr style=\"text-align: right;\">\n",
              "      <th></th>\n",
              "      <th>sepal length (cm)</th>\n",
              "      <th>sepal width (cm)</th>\n",
              "      <th>petal length (cm)</th>\n",
              "      <th>petal width (cm)</th>\n",
              "      <th>target</th>\n",
              "    </tr>\n",
              "  </thead>\n",
              "  <tbody>\n",
              "    <tr>\n",
              "      <th>0</th>\n",
              "      <td>5.1</td>\n",
              "      <td>3.5</td>\n",
              "      <td>1.4</td>\n",
              "      <td>0.2</td>\n",
              "      <td>0.0</td>\n",
              "    </tr>\n",
              "    <tr>\n",
              "      <th>1</th>\n",
              "      <td>4.9</td>\n",
              "      <td>3.0</td>\n",
              "      <td>1.4</td>\n",
              "      <td>0.2</td>\n",
              "      <td>0.0</td>\n",
              "    </tr>\n",
              "    <tr>\n",
              "      <th>2</th>\n",
              "      <td>4.7</td>\n",
              "      <td>3.2</td>\n",
              "      <td>1.3</td>\n",
              "      <td>0.2</td>\n",
              "      <td>0.0</td>\n",
              "    </tr>\n",
              "    <tr>\n",
              "      <th>3</th>\n",
              "      <td>4.6</td>\n",
              "      <td>3.1</td>\n",
              "      <td>1.5</td>\n",
              "      <td>0.2</td>\n",
              "      <td>0.0</td>\n",
              "    </tr>\n",
              "    <tr>\n",
              "      <th>4</th>\n",
              "      <td>5.0</td>\n",
              "      <td>3.6</td>\n",
              "      <td>1.4</td>\n",
              "      <td>0.2</td>\n",
              "      <td>0.0</td>\n",
              "    </tr>\n",
              "  </tbody>\n",
              "</table>\n",
              "</div>"
            ],
            "text/plain": [
              "   sepal length (cm)  sepal width (cm)  ...  petal width (cm)  target\n",
              "0                5.1               3.5  ...               0.2     0.0\n",
              "1                4.9               3.0  ...               0.2     0.0\n",
              "2                4.7               3.2  ...               0.2     0.0\n",
              "3                4.6               3.1  ...               0.2     0.0\n",
              "4                5.0               3.6  ...               0.2     0.0\n",
              "\n",
              "[5 rows x 5 columns]"
            ]
          },
          "metadata": {
            "tags": []
          },
          "execution_count": 3
        }
      ]
    },
    {
      "cell_type": "code",
      "metadata": {
        "id": "UbCaVPwuz4OG",
        "outputId": "4b99b265-8ae9-41fa-d8bd-aa8cb3d5f7b1",
        "colab": {
          "base_uri": "https://localhost:8080/",
          "height": 34
        }
      },
      "source": [
        "# Now, what's the shape of the data?\n",
        "df.shape"
      ],
      "execution_count": null,
      "outputs": [
        {
          "output_type": "execute_result",
          "data": {
            "text/plain": [
              "(150, 5)"
            ]
          },
          "metadata": {
            "tags": []
          },
          "execution_count": 39
        }
      ]
    },
    {
      "cell_type": "markdown",
      "metadata": {
        "id": "N0wcIQox0l0n"
      },
      "source": [
        "Let's now split the data into train and test dataset using SKLEARN"
      ]
    },
    {
      "cell_type": "code",
      "metadata": {
        "id": "4tH24beS0Eas"
      },
      "source": [
        "# importing the sklearn library\n",
        "\n",
        "from sklearn.model_selection import train_test_split"
      ],
      "execution_count": null,
      "outputs": []
    },
    {
      "cell_type": "code",
      "metadata": {
        "id": "m26aJMQ40r-e"
      },
      "source": [
        "# get the X and y i.e. features and labels out\n",
        "# features = df.iloc[:,:3].values\n",
        "# labels = df.iloc[:,-1].values\n",
        "features = df.drop('target',axis=1).values\n",
        "labels = df['target'].values"
      ],
      "execution_count": null,
      "outputs": []
    },
    {
      "cell_type": "code",
      "metadata": {
        "id": "P0oUE-vk0_fE"
      },
      "source": [
        "# Now let's apply the split\n",
        "X_train, X_test, y_train, y_test = train_test_split(features,labels, test_size=0.2, random_state=33)"
      ],
      "execution_count": null,
      "outputs": []
    },
    {
      "cell_type": "code",
      "metadata": {
        "id": "Zc2ekX2414gD"
      },
      "source": [
        "# Now we would need to convert the array to tensors we can do it like this\n",
        "X_train = torch.FloatTensor(X_train)\n",
        "X_test = torch.FloatTensor(X_test)"
      ],
      "execution_count": null,
      "outputs": []
    },
    {
      "cell_type": "code",
      "metadata": {
        "id": "Svbt1l-42-7B"
      },
      "source": [
        "# converting the labels now\n",
        "y_train = torch.LongTensor(y_train)\n",
        "y_test = torch.LongTensor(y_test)"
      ],
      "execution_count": null,
      "outputs": []
    },
    {
      "cell_type": "markdown",
      "metadata": {
        "id": "NxnMnAfS4RSF"
      },
      "source": [
        "Let's now split the data into train and test dataset using PYTORCH"
      ]
    },
    {
      "cell_type": "code",
      "metadata": {
        "id": "-8tyeJwi2_3T"
      },
      "source": [
        "from torch.utils.data import TensorDataset, DataLoader"
      ],
      "execution_count": null,
      "outputs": []
    },
    {
      "cell_type": "code",
      "metadata": {
        "id": "1h6E85lL4HTF"
      },
      "source": [
        "# get the X and y i.e. features and labels out\n",
        "features = df.iloc[:,:3].values\n",
        "labels = df.iloc[:,-1].values"
      ],
      "execution_count": null,
      "outputs": []
    },
    {
      "cell_type": "code",
      "metadata": {
        "id": "-Lx0VD4g4hFf"
      },
      "source": [
        "# We're now splitting using the built in Pytorch Splitter\n",
        "iris_dataset_train_test = TensorDataset(torch.FloatTensor(features), torch.LongTensor(labels))\n",
        "\n",
        "# We can itterate in this object like this\n",
        "## for row in iris_dataset_train_test:\n",
        "##  print(row)"
      ],
      "execution_count": null,
      "outputs": []
    },
    {
      "cell_type": "code",
      "metadata": {
        "id": "reW45F3m5Gil"
      },
      "source": [
        "# Converting the dataset to loader and spliting into batchesto train a network\n",
        "iris_loader = DataLoader(iris_dataset_train_test, batch_size=50, shuffle=True)"
      ],
      "execution_count": null,
      "outputs": []
    },
    {
      "cell_type": "markdown",
      "metadata": {
        "id": "M2Y-B7ek8JZe"
      },
      "source": [
        "**Creating a Neural Network now**"
      ]
    },
    {
      "cell_type": "code",
      "metadata": {
        "id": "hDvVKDQP8XwZ"
      },
      "source": [
        "class Model(nn.Module):\n",
        "\n",
        "  def __init__(self, in_features = 4, h1 = 8, h2 = 9, out_features = 3):\n",
        "    # how many layers are there?\n",
        "    super().__init__()\n",
        "\n",
        "    # First fully connected layer, input layer --> h1\n",
        "    self.fc1 = nn.Linear(in_features,h1) \n",
        "\n",
        "    # Second fully connected layer, h1 --> h2\n",
        "    self.fc2 = nn.Linear(h1, h2) \n",
        "\n",
        "    # The output layer, h2 --> output\n",
        "    self.out = nn.Linear(h2, out_features) \n",
        "\n",
        "    # input layer (4 features, iris dataset) --> h1 (N) --> h2 (N) --> output (3 classes)\n",
        "    pass\n",
        "\n",
        "  def forward(self, x):\n",
        "\n",
        "    # all the Fully Connected layers would now be passed through\n",
        "    # an activation function\n",
        "    x = F.relu(self.fc1(x))\n",
        "    x = F.relu(self.fc2(x))\n",
        "    x = self.out(x)\n",
        "\n",
        "    return x"
      ],
      "execution_count": null,
      "outputs": []
    },
    {
      "cell_type": "code",
      "metadata": {
        "id": "1MX4udFp-pgK"
      },
      "source": [
        "# Let's now initialize out model\n",
        "model = Model()"
      ],
      "execution_count": null,
      "outputs": []
    },
    {
      "cell_type": "code",
      "metadata": {
        "id": "gScqgv0i-4zy"
      },
      "source": [
        "# We alreay have dataset splitted in X_train, X_test and y_train, y_test\n",
        "# we'll simple now code to analyze loss\n",
        "\n",
        "criterion = nn.CrossEntropyLoss()\n",
        "\n",
        "# Choosing the optimizer now -> Adam\n",
        "\n",
        "optimizer = torch.optim.Adam(model.parameters(), lr=0.01)\n"
      ],
      "execution_count": null,
      "outputs": []
    },
    {
      "cell_type": "code",
      "metadata": {
        "id": "rdBez_TQFsx5"
      },
      "source": [
        "# Let us now train the model\n",
        "\n",
        "# step 1 : Setting the epochs - the number of times the model will itterate the dataset\n",
        "epochs = 100\n",
        "losses = []\n",
        "\n",
        "# step 2 : Loop for each epoch\n",
        "for i in range(epochs):\n",
        "\n",
        "  # Step 3 : Move forward in the network\n",
        "  y_pred = model.forward(X_train)\n",
        "\n",
        "  # Step 4 : After the prediction happen, let's now calculate the loss\n",
        "  loss = criterion(y_pred, y_train)\n",
        "  losses.append(loss)\n",
        "\n",
        "  # print the epoch and loss\n",
        "  print(f'epoch {i} loss is {loss}')\n",
        "\n",
        "  # Step 5 : Back propogation\n",
        "  \n",
        "  ## resetting the gradients\n",
        "  optimizer.zero_grad()\n",
        "  \n",
        "  loss.backward()\n",
        "  optimizer.step()"
      ],
      "execution_count": null,
      "outputs": []
    },
    {
      "cell_type": "code",
      "metadata": {
        "id": "FQd7ILafHnNe",
        "outputId": "69100361-3103-46af-f575-98539db1c975",
        "colab": {
          "base_uri": "https://localhost:8080/",
          "height": 297
        }
      },
      "source": [
        "# So the training is done, let's now plot the losses\n",
        "plt.plot(range(epochs), losses)\n",
        "plt.ylabel(\"Total loss\")\n",
        "plt.xlabel(\"Epochs\")"
      ],
      "execution_count": null,
      "outputs": [
        {
          "output_type": "execute_result",
          "data": {
            "text/plain": [
              "Text(0.5, 0, 'Epochs')"
            ]
          },
          "metadata": {
            "tags": []
          },
          "execution_count": 53
        },
        {
          "output_type": "display_data",
          "data": {
            "image/png": "[encoded data removed]",
            "text/plain": [
              "<Figure size 432x288 with 1 Axes>"
            ]
          },
          "metadata": {
            "tags": [],
            "needs_background": "light"
          }
        }
      ]
    },
    {
      "cell_type": "code",
      "metadata": {
        "id": "NKjdI1QXJAXU",
        "outputId": "012dce5e-619e-48c4-c631-654a623daf67",
        "colab": {
          "base_uri": "https://localhost:8080/",
          "height": 34
        }
      },
      "source": [
        "# So everything is done, we're now evaluating the model\n",
        "# first we'll turn off the grad \n",
        "\n",
        "with torch.no_grad():\n",
        "  y_eval = model.forward(X_test)\n",
        "  loss = criterion(y_eval, y_test)\n",
        "\n",
        "print(f'The loss is {loss}')"
      ],
      "execution_count": null,
      "outputs": [
        {
          "output_type": "stream",
          "text": [
            "The loss is 0.06445859372615814\n"
          ],
          "name": "stdout"
        }
      ]
    },
    {
      "cell_type": "markdown",
      "metadata": {
        "id": "WGK_auHzQi5A"
      },
      "source": [
        "The loss on training and test set are near about same, so our model is neither overfitting or underfitting and is perfect"
      ]
    },
    {
      "cell_type": "code",
      "metadata": {
        "id": "s7jYgzQ7PsxD",
        "outputId": "eaf280ee-3551-4bd2-97bf-4a1ddb05eb08",
        "colab": {
          "base_uri": "https://localhost:8080/",
          "height": 51
        }
      },
      "source": [
        "# Let's now see what's the accuracy of the model\n",
        "\n",
        "# To do so, we'll get the value of the correct prediction and the incorrect predictions\n",
        "\n",
        "correct = 0\n",
        "\n",
        "with torch.no_grad():\n",
        "\n",
        "  # looping through the test set for getting the value\n",
        "  for i, data in enumerate(X_test):\n",
        "\n",
        "    y_val = model.forward(data)\n",
        "\n",
        "    if y_val.argmax().item() == y_test[i]:\n",
        "      correct += 1\n",
        "\n",
        "  # so finally we have\n",
        "  print(f\"We got {correct} corrects out of {len(y_test)}\")\n",
        "\n",
        "  # so accuracy of the model is \n",
        "  accuracy = (correct / len(y_test)) * 100\n",
        "\n",
        "  print(f'Accuracy of the model is {accuracy}%')"
      ],
      "execution_count": null,
      "outputs": [
        {
          "output_type": "stream",
          "text": [
            "We got 29 corrects out of 30\n",
            "Accuracy of the model is 96.66666666666667%\n"
          ],
          "name": "stdout"
        }
      ]
    },
    {
      "cell_type": "code",
      "metadata": {
        "id": "an5DHsAKU2JT"
      },
      "source": [
        "# Now let's save the model's state (learned weights and biases)\n",
        "torch.save(model.state_dict(),'my_iris_model_state.pt')\n",
        "\n",
        "# Now let's save whole model\n",
        "torch.save(model,'my_iris_model.pt')"
      ],
      "execution_count": null,
      "outputs": []
    },
    {
      "cell_type": "code",
      "metadata": {
        "id": "N9yvOHKjY6MS"
      },
      "source": [
        "# In order to load a saved model's state\n",
        "new_model_withstate = Model()\n",
        "new_model_withstate.load_state_dict(torch.load('my_iris_model_state.pt'))\n",
        "new_model_withstate.eval()\n",
        "\n",
        "# In order to load a saved model\n",
        "new_model = torch.load('my_iris_model.pt')\n",
        "new_model.eval()"
      ],
      "execution_count": null,
      "outputs": []
    },
    {
      "cell_type": "markdown",
      "metadata": {
        "id": "WRG3V4fSaTZh"
      },
      "source": [
        "Predict the new Flower\n"
      ]
    },
    {
      "cell_type": "code",
      "metadata": {
        "id": "I4G3NStTZQwQ"
      },
      "source": [
        "# Let's set the dimension of the new flower\n",
        "mystery_iris = torch.tensor([5.6,3.7,2.2,0.5])"
      ],
      "execution_count": null,
      "outputs": []
    },
    {
      "cell_type": "code",
      "metadata": {
        "id": "9ScphonnakHh",
        "outputId": "4fabb697-2478-4bde-a0d5-55fcbb2b9d36",
        "colab": {
          "base_uri": "https://localhost:8080/",
          "height": 34
        }
      },
      "source": [
        "# Classify the new flower\n",
        "with torch.no_grad():\n",
        "  pred = model(mystery_iris)\n",
        "  print(pred.argmax().item())"
      ],
      "execution_count": null,
      "outputs": [
        {
          "output_type": "stream",
          "text": [
            "0\n"
          ],
          "name": "stdout"
        }
      ]
    },
    {
      "cell_type": "code",
      "metadata": {
        "id": "tpoKDDRmbj2W"
      },
      "source": [
        ""
      ],
      "execution_count": null,
      "outputs": []
    }
  ]
}